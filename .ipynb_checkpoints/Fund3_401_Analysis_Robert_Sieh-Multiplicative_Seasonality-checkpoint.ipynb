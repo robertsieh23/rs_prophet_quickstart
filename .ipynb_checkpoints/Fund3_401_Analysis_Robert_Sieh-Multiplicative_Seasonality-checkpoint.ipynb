{
 "cells": [
  {
   "cell_type": "code",
   "execution_count": null,
   "metadata": {},
   "outputs": [],
   "source": [
    "import pandas as pd\n",
    "import numpy as np\n",
    "from fbprophet import Prophet\n",
    "from fbprophet.plot import add_changepoints_to_plot\n"
   ]
  },
  {
   "cell_type": "code",
   "execution_count": null,
   "metadata": {},
   "outputs": [],
   "source": [
    "import requests\n",
    "\n",
    "POLONIEX_OHLCV_BASEURL = 'https://poloniex.com/public?command=returnChartData&currencyPair='\n",
    "\n",
    "\"\"\"\n",
    "https://poloniex.com/public?command=returnChartData&currencyPair=BTC_POT&start=1435699200&end=9999999999&period=14400\n",
    "\n",
    "\"\"\"\n",
    "\n",
    "def get_ohlcv_poloniex(pair='BTC_ETH', start=1435699200, end=9999999999, period=900):\n",
    "    \"\"\"\n",
    "    returns ohlcv data for poloniex as pandas dataframe\n",
    "    convert to unix timestamp using https://coderstoolbox.net/unixtimestamp/\n",
    "    :param pair: str pair on poloniex\n",
    "    :param start: int unix timestamp of beginning time\n",
    "    :param end: int unix timestamp of ending time\n",
    "    :param period: int candle width in seconds\n",
    "    :return: pandas df of ohlcv data from poloniex for specified pair, times, and period\n",
    "    \"\"\"\n",
    "    query = POLONIEX_OHLCV_BASEURL + pair + '&start=' + str(start) + '&end=' + str(end) + '&period=' + str(period)\n",
    "    resp = requests.get(query)\n",
    "\n",
    "    if resp.status_code != 200:\n",
    "        raise requests.ApiError('GET /tasks/ {}'.format(resp.status_code))\n",
    "\n",
    "    return pd.DataFrame(resp.json())"
   ]
  },
  {
   "cell_type": "code",
   "execution_count": null,
   "metadata": {},
   "outputs": [],
   "source": [
    "df = get_ohlcv_poloniex(pair='USDT_BTC', start=1483600958, end=9999999999, period=900)\n",
    "#no option to pass in 3600 sec candles\n",
    "df = df[df.index % 4 == 0]\n",
    "df['ds'] = pd.to_datetime(df['date'], unit='s')\n",
    "df['y'] = df['weightedAverage']\n",
    "df['logWeightedAverage'] = df['weightedAverage'].apply(np.log)\n"
   ]
  },
  {
   "cell_type": "code",
   "execution_count": null,
   "metadata": {},
   "outputs": [],
   "source": []
  },
  {
   "cell_type": "code",
   "execution_count": null,
   "metadata": {},
   "outputs": [],
   "source": [
    "df.plot(x='ds', y ='weightedAverage')"
   ]
  },
  {
   "cell_type": "code",
   "execution_count": null,
   "metadata": {},
   "outputs": [],
   "source": [
    "df.plot(x='ds', y ='logWeightedAverage')"
   ]
  },
  {
   "cell_type": "markdown",
   "metadata": {},
   "source": [
    "Standard bitcoin historical price graph."
   ]
  },
  {
   "cell_type": "code",
   "execution_count": null,
   "metadata": {},
   "outputs": [],
   "source": [
    "from scipy.stats import describe\n",
    "print('linear stats ' + str(describe(df['weightedAverage'])))\n",
    "print('log stats ' + str(describe(df['logWeightedAverage'])))"
   ]
  },
  {
   "cell_type": "markdown",
   "metadata": {},
   "source": [
    "|   |linear   |log   |\n",
    "|---|---|---|\n",
    "|mean   |5817.83662477842   |8.365708530321312   |\n",
    "|variance   |15934387.18504999   |0.7275014560523686   |\n",
    "|skewness   |0.7209291658182619   |-0.4788483915373271   |\n",
    "|kurtosis   |0.14552149255314006   |-1.0122969215008524   |"
   ]
  },
  {
   "cell_type": "markdown",
   "metadata": {},
   "source": [
    "The log stats have a lot less variance relative to the mean values along with less skewness (difference from the normal distribution) but in the other direction. The kurtosis for linear stats is a lot closer to normal than the log stats, indicating a flatter peak than normal for the log stats. Values for log-returns in the study here (https://journals.plos.org/plosone/article?id=10.1371/journal.pone.0133678) have a very high positive kurtosis (22.425) indicating a very sharp non-normal peak and negative skewness."
   ]
  },
  {
   "cell_type": "code",
   "execution_count": null,
   "metadata": {},
   "outputs": [],
   "source": [
    "m = Prophet()\n",
    "m.fit(df)\n",
    "future = m.make_future_dataframe(periods=1)\n",
    "future.tail()\n",
    "forecast = m.predict(future)\n",
    "forecast[['ds', 'yhat', 'yhat_lower', 'yhat_upper']].tail()\n",
    "print(\"Linear Graphs\")\n",
    "fig1 = m.plot(forecast)\n",
    "a = add_changepoints_to_plot(fig1.gca(), m, forecast)\n",
    "fig2 = m.plot_components(forecast)\n"
   ]
  },
  {
   "cell_type": "code",
   "execution_count": null,
   "metadata": {},
   "outputs": [],
   "source": [
    "future = m.make_future_dataframe(periods=7)\n",
    "future.tail()\n",
    "forecast = m.predict(future)\n",
    "forecast[['ds', 'yhat', 'yhat_lower', 'yhat_upper']].tail()\n",
    "print(\"Linear Graphs\")\n",
    "fig1 = m.plot(forecast)\n",
    "a = add_changepoints_to_plot(fig1.gca(), m, forecast)\n",
    "fig2 = m.plot_components(forecast)\n"
   ]
  },
  {
   "cell_type": "code",
   "execution_count": null,
   "metadata": {},
   "outputs": [],
   "source": [
    "future = m.make_future_dataframe(periods=14)\n",
    "future.tail()\n",
    "forecast = m.predict(future)\n",
    "forecast[['ds', 'yhat', 'yhat_lower', 'yhat_upper']].tail()\n",
    "print(\"Linear Graphs\")\n",
    "fig1 = m.plot(forecast)\n",
    "a = add_changepoints_to_plot(fig1.gca(), m, forecast)\n",
    "fig2 = m.plot_components(forecast)\n"
   ]
  },
  {
   "cell_type": "code",
   "execution_count": null,
   "metadata": {},
   "outputs": [],
   "source": [
    "future = m.make_future_dataframe(periods=30)\n",
    "future.tail()\n",
    "forecast = m.predict(future)\n",
    "forecast[['ds', 'yhat', 'yhat_lower', 'yhat_upper']].tail()\n",
    "print(\"Linear Graphs\")\n",
    "fig1 = m.plot(forecast)\n",
    "a = add_changepoints_to_plot(fig1.gca(), m, forecast)\n",
    "fig2 = m.plot_components(forecast)"
   ]
  },
  {
   "cell_type": "markdown",
   "metadata": {},
   "source": [
    "Day of week graph makes sense. Price always seems to top out on Sundays while the bears win out over the week.\n",
    "\n",
    "The daily graph shows how there are multiple regions trading Bitcoin (makes sense) given the multiple local maxima. Midnight GMT corresponds with 5pm LA time, 8am GMT is 5pm Tokyo time, 15 GMT is afternoon in Europe, corresponding with the 3 primary trading regions (USA, SK/JP/AUS, EUR), all with their own local max.\n",
    "\n",
    "There's obviously a wide range of future price predictions given the historical volatility of Bitcoin."
   ]
  },
  {
   "cell_type": "code",
   "execution_count": null,
   "metadata": {},
   "outputs": [],
   "source": [
    "df['y'] = df['logWeightedAverage']\n",
    "m = Prophet()\n",
    "m.fit(df)\n",
    "future = m.make_future_dataframe(periods=1)\n",
    "future.tail()\n",
    "forecast = m.predict(future)\n",
    "forecast[['ds', 'yhat', 'yhat_lower', 'yhat_upper']].tail()\n",
    "print(\"Log Graphs\")\n",
    "fig1 = m.plot(forecast)\n",
    "a = add_changepoints_to_plot(fig1.gca(), m, forecast)\n",
    "fig2 = m.plot_components(forecast)"
   ]
  },
  {
   "cell_type": "code",
   "execution_count": null,
   "metadata": {},
   "outputs": [],
   "source": [
    "future = m.make_future_dataframe(periods=7)\n",
    "future.tail()\n",
    "forecast = m.predict(future)\n",
    "forecast[['ds', 'yhat', 'yhat_lower', 'yhat_upper']].tail()\n",
    "print(\"Log Graphs\")\n",
    "fig1 = m.plot(forecast)\n",
    "a = add_changepoints_to_plot(fig1.gca(), m, forecast)\n",
    "fig2 = m.plot_components(forecast)"
   ]
  },
  {
   "cell_type": "code",
   "execution_count": null,
   "metadata": {},
   "outputs": [],
   "source": [
    "future = m.make_future_dataframe(periods=14)\n",
    "future.tail()\n",
    "forecast = m.predict(future)\n",
    "forecast[['ds', 'yhat', 'yhat_lower', 'yhat_upper']].tail()\n",
    "print(\"Log Graphs\")\n",
    "fig1 = m.plot(forecast)\n",
    "a = add_changepoints_to_plot(fig1.gca(), m, forecast)\n",
    "fig2 = m.plot_components(forecast)"
   ]
  },
  {
   "cell_type": "code",
   "execution_count": null,
   "metadata": {},
   "outputs": [],
   "source": [
    "future = m.make_future_dataframe(periods=30)\n",
    "future.tail()\n",
    "forecast = m.predict(future)\n",
    "forecast[['ds', 'yhat', 'yhat_lower', 'yhat_upper']].tail()\n",
    "print(\"Log Graphs\")\n",
    "fig1 = m.plot(forecast)\n",
    "a = add_changepoints_to_plot(fig1.gca(), m, forecast)\n",
    "fig2 = m.plot_components(forecast)"
   ]
  },
  {
   "cell_type": "markdown",
   "metadata": {},
   "source": [
    "The intraday behavior here is shifted slightly to the right with less pronounced peaks for the assumed non-North America regions. My assumption for this is that Bitcoin trading was a lot more US-dominated prior to the recent spike, and the log graph captures the larger relative spike from US based trading. Whereas the other regions increased their proportional trading when the price was higher and thus fluctuations in price were higher in terms of absolute prices. Not sure how to explain the right shift--maybe a gradual change in the macro behavior of the market to the left recently?"
   ]
  },
  {
   "cell_type": "code",
   "execution_count": null,
   "metadata": {},
   "outputs": [],
   "source": [
    "df['y'] = df['weightedAverage']\n",
    "d = dict(tuple(df.groupby(df['ds'].dt.month)))\n",
    "for i, df_month in d.items():\n",
    "    print (i)\n",
    "    m = Prophet()\n",
    "    m.fit(df_month)\n",
    "    future = m.make_future_dataframe(periods=1)\n",
    "    future.tail()\n",
    "    forecast = m.predict(future)\n",
    "    fig2 = m.plot_components(forecast)\n",
    "    "
   ]
  },
  {
   "cell_type": "code",
   "execution_count": null,
   "metadata": {},
   "outputs": [],
   "source": [
    "#Changing n_changepoints\n",
    "m = Prophet(n_changepoints = 10)\n",
    "m.fit(df)\n",
    "future = m.make_future_dataframe(periods=1)\n",
    "future.tail()\n",
    "forecast = m.predict(future)\n",
    "forecast[['ds', 'yhat', 'yhat_lower', 'yhat_upper']].tail()\n",
    "print(\"Linear Graphs\")\n",
    "fig1 = m.plot(forecast)\n",
    "a = add_changepoints_to_plot(fig1.gca(), m, forecast)\n",
    "fig2 = m.plot_components(forecast)"
   ]
  },
  {
   "cell_type": "code",
   "execution_count": null,
   "metadata": {},
   "outputs": [],
   "source": [
    "#Changing n_changepoints\n",
    "m = Prophet(n_changepoints = 50)\n",
    "m.fit(df)\n",
    "future = m.make_future_dataframe(periods=1)\n",
    "future.tail()\n",
    "forecast = m.predict(future)\n",
    "forecast[['ds', 'yhat', 'yhat_lower', 'yhat_upper']].tail()\n",
    "print(\"Linear Graphs\")\n",
    "fig1 = m.plot(forecast)\n",
    "a = add_changepoints_to_plot(fig1.gca(), m, forecast)\n",
    "fig2 = m.plot_components(forecast)"
   ]
  }
 ],
 "metadata": {
  "kernelspec": {
   "display_name": "Python 3",
   "language": "python",
   "name": "python3"
  },
  "language_info": {
   "codemirror_mode": {
    "name": "ipython",
    "version": 3
   },
   "file_extension": ".py",
   "mimetype": "text/x-python",
   "name": "python",
   "nbconvert_exporter": "python",
   "pygments_lexer": "ipython3",
   "version": "3.6.5"
  }
 },
 "nbformat": 4,
 "nbformat_minor": 2
}
